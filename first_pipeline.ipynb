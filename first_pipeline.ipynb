{
 "cells": [
  {
   "cell_type": "markdown",
   "id": "5d4d0e93",
   "metadata": {},
   "source": [
    "## First notebook : Text Preprocessing Pipeline"
   ]
  },
  {
   "cell_type": "markdown",
   "id": "b68d090f",
   "metadata": {},
   "source": [
    "Objective :\n",
    "Develop a text preprocessing pipeline that :\n",
    " - Tokenizes the input text\n",
    " - Removes stopwords\n",
    " - Converts text to lowercase\n",
    " - Applies either stemming or lemmatization\n",
    " - Returns the cleaned text ready for analysis"
   ]
  },
  {
   "cell_type": "code",
   "execution_count": null,
   "id": "0c43a0be",
   "metadata": {},
   "outputs": [],
   "source": [
    "# Import libraries \n",
    "import nltk\n",
    "from nltk.tokenize import word_tokenize\n",
    "from nltk.corpus import stopwords\n",
    "from nltk.stem import PorterStemmer, WordNetLemmatizer\n",
    "\n",
    "# Download necessary resources\n",
    "\n",
    "nltk.download(\"punkt\")\n",
    "nltk.download(\"stopwords\")\n",
    "nltk.download(\"wordnet\")\n",
    "nltk.download(\"punkt_tab\")\n",
    "\n"
   ]
  },
  {
   "cell_type": "code",
   "execution_count": 18,
   "id": "adfc6911",
   "metadata": {},
   "outputs": [],
   "source": [
    "def preprocess_text( text, use_lemmatization = True) :\n",
    "    #tokenization\n",
    "    tokens = word_tokenize(text)\n",
    "\n",
    "    #stopwords removal\n",
    "    stop_words = set(stopwords.words(\"english\"))\n",
    "    tokens = [word for word in tokens if word.lower() not in stop_words]\n",
    "\n",
    "    # case conversion\n",
    "    tokens = [word.lower() for word in tokens]\n",
    "\n",
    "    #stemming or lemmatization\n",
    "    if use_lemmatization :\n",
    "        lemmatizer = WordNetLemmatizer()\n",
    "        tokens = [lemmatizer.lemmatize(token) for token in tokens]\n",
    "    else:\n",
    "        stemmer = PorterStemmer()\n",
    "        tokens = [stemmer.stem(token) for token in tokens]\n",
    "    \n",
    "    return tokens"
   ]
  },
  {
   "cell_type": "code",
   "execution_count": 19,
   "id": "1766cf8d",
   "metadata": {},
   "outputs": [
    {
     "name": "stdout",
     "output_type": "stream",
     "text": [
      "with lemmatization :  ['quick', 'brown', 'fox', 'jumping', 'lazy', 'dog', '!']\n",
      "with stemming :  ['quick', 'brown', 'fox', 'jump', 'lazi', 'dog', '!']\n"
     ]
    }
   ],
   "source": [
    "# Test the pipeline\n",
    "\n",
    "text = \"The quick brown foxes are jumping over the lazy dogs!\"\n",
    "print(\"with lemmatization : \", preprocess_text(text))\n",
    "print(\"with stemming : \", preprocess_text(text, use_lemmatization= False))\n"
   ]
  },
  {
   "cell_type": "markdown",
   "id": "f4e6cf78",
   "metadata": {},
   "source": [
    "## Explanation of results \n",
    "\n",
    "- lemmatization : 'foxes' becomes 'fox', 'jumping' becomes 'jump'\n",
    "- stemming : 'jumping' becomes 'jump'. 'Lazy' becomes 'lazi' (doesn't exist) = drawback of stemming"
   ]
  }
 ],
 "metadata": {
  "kernelspec": {
   "display_name": "Python 3",
   "language": "python",
   "name": "python3"
  },
  "language_info": {
   "codemirror_mode": {
    "name": "ipython",
    "version": 3
   },
   "file_extension": ".py",
   "mimetype": "text/x-python",
   "name": "python",
   "nbconvert_exporter": "python",
   "pygments_lexer": "ipython3",
   "version": "3.13.9"
  }
 },
 "nbformat": 4,
 "nbformat_minor": 5
}
