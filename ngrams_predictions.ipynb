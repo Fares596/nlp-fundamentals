{
 "cells": [
  {
   "cell_type": "code",
   "execution_count": null,
   "id": "41aa8728",
   "metadata": {},
   "outputs": [],
   "source": [
    "import nltk\n",
    "from nltk.util import ngrams\n",
    "from collections import Counter\n",
    "import random\n",
    "nltk.download(\"gutenberg\")\n",
    "\n",
    "from nltk.corpus import gutenberg\n",
    "text = gutenberg.words(\"carroll-alice.txt\")\n",
    "\n",
    "print(f\"Sample text: {' '.join(text[:50])}\")"
   ]
  },
  {
   "cell_type": "code",
   "execution_count": null,
   "id": "63ee65ac",
   "metadata": {},
   "outputs": [],
   "source": [
    "unigrams = list(ngrams(text,1))\n",
    "unigram_freq = Counter(unigrams)\n",
    "\n",
    "#generate bigram\n",
    "bigrams = list(ngrams(text,2))\n",
    "bigram_freq = Counter(bigrams)\n",
    "\n",
    "print(f\"most common unigrams : {unigram_freq.most_common}\")\n",
    "print(f\"most common bigrams : {bigram_freq.most_common}\")\n"
   ]
  },
  {
   "cell_type": "code",
   "execution_count": null,
   "id": "0488b74f",
   "metadata": {},
   "outputs": [],
   "source": [
    "def next_word_bigram(current_word, bigram_freq):\n",
    "    \"\"\"predict the next word based on bigram probabilities\"\"\"\n",
    "\n",
    "    predictions = [(pair[1], freq) for pair, freq in bigram_freq.items() if pair[0]== current_word]\n",
    "    predictions = sorted(predictions, key = lambda x: x[1], reverse = True)\n",
    "\n",
    "\n",
    "current_word = \"Alice\"\n",
    "predictions = next_word_bigram(current_word, bigram_freq)\n",
    "print(f\"Top predictions for '{current_word}' : {predictions }\")"
   ]
  }
 ],
 "metadata": {
  "kernelspec": {
   "display_name": "Python 3",
   "language": "python",
   "name": "python3"
  },
  "language_info": {
   "codemirror_mode": {
    "name": "ipython",
    "version": 3
   },
   "file_extension": ".py",
   "mimetype": "text/x-python",
   "name": "python",
   "nbconvert_exporter": "python",
   "pygments_lexer": "ipython3",
   "version": "3.13.9"
  }
 },
 "nbformat": 4,
 "nbformat_minor": 5
}
