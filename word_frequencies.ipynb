{
 "cells": [
  {
   "cell_type": "markdown",
   "id": "ed7e2218",
   "metadata": {},
   "source": [
    "## Objective\n",
    "\n",
    "- Calculating basics statistics (mean, variance) of word frequencies\n",
    "- Visualizing the ferquency dstribution of common words\n",
    "- Comparing observed word frequencies with expected distributions (eg : normal or Poisson)\n",
    "- Drawing insights about word usage patterns in the dataset"
   ]
  },
  {
   "cell_type": "markdown",
   "id": "05b74962",
   "metadata": {},
   "source": [
    "### Dataset\n",
    "Text of \"Alice in Wonderland \" by Lewis Carroll."
   ]
  },
  {
   "cell_type": "code",
   "execution_count": 1,
   "id": "62e805cc",
   "metadata": {},
   "outputs": [],
   "source": [
    "import re\n",
    "from collections import Counter\n",
    "import nltk\n",
    "from nltk.tokenize import word_tokenize"
   ]
  },
  {
   "cell_type": "code",
   "execution_count": 2,
   "id": "ebcf29b9",
   "metadata": {},
   "outputs": [
    {
     "name": "stdout",
     "output_type": "stream",
     "text": [
      "Large sample file 'alice_in_wonderlands.txt created successfully'\n"
     ]
    }
   ],
   "source": [
    "#text sample\n",
    "\n",
    "large_text = \"\"\"Alice was beginning to get very tired of sitting by her sister on the bank, and of having nothing to do: once or twice she had peeped into the book her sister was reading, but it had no pictures or conversations in it, `and what is the use of a book,' thought Alice `without pictures or conversation?'\n",
    "So she was considering in her own mind (as well as she could, for the hot day made her feel very sleepy and stupid), whether the pleasure of making a daisy-chain would be worth the trouble of getting up and picking the daisies, when suddenly a White Rabbit with pink eyes ran close by her.\n",
    "\n",
    "There was nothing so very remarkable in that; nor did Alice think it so very much out of the way to hear the Rabbit say to itself, `Oh dear! Oh dear! I shall be late!' (when she thought it over afterwards, it occurred to her that she ought to have wondered at this, but at the time it all seemed quite natural); but when the Rabbit actually took a watch out of its waistcoat-pocket, and looked at it, and then hurried on, Alice started to her feet, for it flashed across her mind that she had never before seen a rabbit with either a waistcoat-pocket, or a watch to take out of it, and burning with curiosity, she ran across the field after it, and fortunately was just in time to see it pop down a large rabbit-hole under the hedge.\n",
    "\n",
    "In another moment down went Alice after it, never once considering how in the world she was to get out again.\n",
    "\n",
    "The rabbit-hole went straight on like a tunnel for some way, and then dipped suddenly down, so suddenly that Alice had not a moment to think about stopping herself before she found herself falling down a very deep well.\n",
    "\n",
    "Either the well was very deep, or she fell very slowly, for she had plenty of time as she went down to look about her and to wonder what was going to happen next. First, she tried to look down and make out what she was coming to, but it was too dark to see anything; then she looked at the sides of the well, and noticed that they were filled with cupboards and book-shelves; here and there she saw maps and pictures hung upon pegs. She took down a jar from one of the shelves as she passed; it was labelled `ORANGE MARMALADE', but to her great disappointment it was empty: she did not like to drop the jar for fear of killing somebody, so managed to put it into one of the cupboards as she fell past it.\n",
    "\n",
    "`Well!' thought Alice to herself, `after such a fall as this, I shall think nothing of tumbling down stairs! How brave they'll all think me at home! Why, I wouldn't say anything about it, even if I fell off the top of the house!' (Which was very likely true.)\n",
    "\n",
    "Down, down, down. Would the fall never come to an end! `I wonder how many miles I've fallen by this time?' she said aloud. `I must be getting somewhere near the centre of the earth. Let me see: that would be four thousand miles down, I think--' (for, you see, Alice had learnt several things of this sort in her lessons in the schoolroom, and though this was not a very good opportunity for showing off her knowledge, as there was no one to listen to her, still it was good practice to say it over) `--yes, that's about the right distance--but then I wonder what Latitude or Longitude I've got to?' (Alice had no idea what Latitude was, or Longitude either, but thought they were nice grand words to say.)\n",
    "\n",
    "Presently she began again. `I wonder if I shall fall right through the earth! How funny it'll seem to come out among the people that walk with their heads downward! The Antipathies, I think--' (she was rather glad there was no one listening, this time, as it didn't sound at all the right word) `--but I shall have to ask them what the name of the country is, you know. Please, Ma'am, is this New Zealand or Australia?' (and she tried to curtsey as she spoke--fancy curtseying as you're falling through the air! Do you think you could manage it?) `And what an ignorant little girl she'll think me for asking! No, it'll never do to ask: perhaps I shall see it written up somewhere.'\n",
    "\n",
    "Down, down, down. There was nothing else to do, so Alice soon began talking again. `Dinah'll miss me very much to-night, I should think!' (Dinah was the cat.) `I hope they'll remember her saucer of milk at tea-time. Dinah my dear! I wish you were down here with me! There are no mice in the air, I'm afraid, but you might catch a bat, and that's very like a mouse, you know. But do cats eat bats, I wonder?' And here Alice began to get rather sleepy, and went on saying to herself, in a dreamy sort of way, `Do cats eat bats? Do cats eat bats?' and sometimes, `Do bats eat cats?' for, you see, as she couldn't answer either question, it didn't much matter which way she put it. She felt that she was dozing off, and had just begun to dream that she was walking hand in hand with Dinah, and saying to her very earnestly, `Now, Dinah, tell me the truth: did you ever eat a bat?' when suddenly, thump! thump! down she came upon a heap of sticks and dry leaves, and the fall was over.\"\"\"\n",
    "\n",
    "#Write the text to a file named \"alice_in_wonderland.txt\"\n",
    "with open (\"alice_in_wonderlands.txt\", \"w\") as file:\n",
    "    file.write(large_text)\n",
    "\n",
    "print(\"Large sample file 'alice_in_wonderlands.txt created successfully'\")"
   ]
  },
  {
   "cell_type": "code",
   "execution_count": 3,
   "id": "e4a76acb",
   "metadata": {},
   "outputs": [],
   "source": [
    "#load the text data\n",
    "with open (\"alice_in_wonderlands.txt\", \"r\") as file :\n",
    "    text = file.read()\n"
   ]
  },
  {
   "cell_type": "code",
   "execution_count": 4,
   "id": "5872a806",
   "metadata": {},
   "outputs": [],
   "source": [
    "#preprocess the text\n",
    "\n",
    "text = text.lower()\n",
    "text = re.sub(r'[^\\w\\s]', '', text)\n",
    "tokens = word_tokenize(text)\n"
   ]
  },
  {
   "cell_type": "code",
   "execution_count": 5,
   "id": "5722eeb2",
   "metadata": {},
   "outputs": [
    {
     "name": "stdout",
     "output_type": "stream",
     "text": [
      "['alice', 'was', 'beginning', 'to', 'get', 'very', 'tired', 'of', 'sitting', 'by', 'her', 'sister', 'on', 'the', 'bank', 'and', 'of', 'having', 'nothing', 'to']\n"
     ]
    }
   ],
   "source": [
    "#display tokens\n",
    "print(tokens[:20])"
   ]
  },
  {
   "cell_type": "markdown",
   "id": "3bfae689",
   "metadata": {},
   "source": [
    "## Step 2 : Calculate Word Frequencies\n",
    "Calculate the frequency of each word in the corpus using the Counter class from the collections module"
   ]
  },
  {
   "cell_type": "code",
   "execution_count": 6,
   "id": "8ebbb74e",
   "metadata": {},
   "outputs": [
    {
     "name": "stdout",
     "output_type": "stream",
     "text": [
      "Most common words : [('the', 39), ('to', 36), ('she', 31), ('and', 26), ('it', 25), ('was', 24), ('of', 21), ('a', 19), ('i', 17), ('down', 17)]\n"
     ]
    }
   ],
   "source": [
    "#calculate word frequency \n",
    "word_counts = Counter(tokens)\n",
    "\n",
    "# Display the 10 most common words\n",
    "print(\"Most common words :\", word_counts.most_common(10))"
   ]
  },
  {
   "cell_type": "markdown",
   "id": "83fc5e56",
   "metadata": {},
   "source": [
    "## Step 3 : Calculate basic statistical measures"
   ]
  },
  {
   "cell_type": "code",
   "execution_count": 8,
   "id": "315dd73f",
   "metadata": {},
   "outputs": [
    {
     "name": "stdout",
     "output_type": "stream",
     "text": [
      "Mean Frequency : 2.6807909604519775\n",
      "Variance : 20.67494174726292\n",
      "Strandard Deviation : 4.546970612095807\n"
     ]
    }
   ],
   "source": [
    "import numpy as np\n",
    "\n",
    "#Convert word frequencies to a list of counts\n",
    "word_frequencies = list(word_counts.values())\n",
    "\n",
    "# Calculate mean, variance, and standard deviation\n",
    "mean_freq = np.mean(word_frequencies)\n",
    "variance_freq = np.var(word_frequencies)\n",
    "std_dev_freq = np.std(word_frequencies)\n",
    "\n",
    "print(f\"Mean Frequency : {mean_freq}\")\n",
    "print(f\"Variance : {variance_freq}\")\n",
    "print(f\"Strandard Deviation : {std_dev_freq}\")\n",
    "\n",
    "\n"
   ]
  },
  {
   "cell_type": "markdown",
   "id": "e8018a93",
   "metadata": {},
   "source": [
    "## Step 4 : Visualize the word Frequency distribution"
   ]
  },
  {
   "cell_type": "code",
   "execution_count": 17,
   "id": "e11cd036",
   "metadata": {},
   "outputs": [
    {
     "data": {
      "image/png": "[encoded data removed]",
      "text/plain": [
       "<Figure size 1000x600 with 1 Axes>"
      ]
     },
     "metadata": {},
     "output_type": "display_data"
    }
   ],
   "source": [
    "import matplotlib.pyplot as plt\n",
    " \n",
    "# PLot histogram of word ferquencies\n",
    "\n",
    "plt.figure(figsize = (10,6))\n",
    "plt.hist(word_frequencies, bins = 50, color =\"skyblue\", edgecolor =\"black\" )\n",
    "plt.title(\"Histogram of word frequencies\")\n",
    "plt.xlabel(\"frequencies of words\")\n",
    "plt.ylabel(\"number of words\")\n",
    "plt.yscale(\"log\")\n",
    "plt.show()"
   ]
  }
 ],
 "metadata": {
  "kernelspec": {
   "display_name": "Python 3",
   "language": "python",
   "name": "python3"
  },
  "language_info": {
   "codemirror_mode": {
    "name": "ipython",
    "version": 3
   },
   "file_extension": ".py",
   "mimetype": "text/x-python",
   "name": "python",
   "nbconvert_exporter": "python",
   "pygments_lexer": "ipython3",
   "version": "3.13.9"
  }
 },
 "nbformat": 4,
 "nbformat_minor": 5
}
